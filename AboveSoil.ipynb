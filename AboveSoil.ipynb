{
 "cells": [
  {
   "cell_type": "markdown",
   "metadata": {},
   "source": [
    "# ABoVE: Soil Active Layer Thaw Depths at CRREL sites near Fairbanks, Alaska, 2014-2018\n",
    "\n",
    "### See the manual for this data here: https://daac.ornl.gov/cgi-bin/dsviewer.pl?ds_id=1701"
   ]
  },
  {
   "cell_type": "code",
   "execution_count": 70,
   "metadata": {},
   "outputs": [],
   "source": [
    "import pandas as pd\n",
    "import numpy as np\n",
    "import matplotlib.pyplot as plt\n",
    "import matplotlib\n",
    "\n",
    "from datetime import datetime\n",
    "\n",
    "%matplotlib inline"
   ]
  },
  {
   "cell_type": "code",
   "execution_count": 71,
   "metadata": {},
   "outputs": [],
   "source": [
    "df = pd.read_csv(r'C:\\Users\\emack\\Documents\\AboveSoil\\Active_Layer_Thaw_Depths_1701\\Active_Layer_Thaw_Depths_1701\\data\\Thaw_depth_four_sites_near_fairbanks.csv')"
   ]
  },
  {
   "cell_type": "code",
   "execution_count": 72,
   "metadata": {},
   "outputs": [
    {
     "data": {
      "text/html": [
       "<div>\n",
       "<style scoped>\n",
       "    .dataframe tbody tr th:only-of-type {\n",
       "        vertical-align: middle;\n",
       "    }\n",
       "\n",
       "    .dataframe tbody tr th {\n",
       "        vertical-align: top;\n",
       "    }\n",
       "\n",
       "    .dataframe thead th {\n",
       "        text-align: right;\n",
       "    }\n",
       "</style>\n",
       "<table border=\"1\" class=\"dataframe\">\n",
       "  <thead>\n",
       "    <tr style=\"text-align: right;\">\n",
       "      <th></th>\n",
       "      <th>year</th>\n",
       "      <th>site</th>\n",
       "      <th>northing</th>\n",
       "      <th>easting</th>\n",
       "      <th>latitude</th>\n",
       "      <th>longitude</th>\n",
       "      <th>thaw_depth</th>\n",
       "      <th>type</th>\n",
       "    </tr>\n",
       "  </thead>\n",
       "  <tbody>\n",
       "    <tr>\n",
       "      <th>0</th>\n",
       "      <td>2014</td>\n",
       "      <td>Creamer's Field</td>\n",
       "      <td>7193915.5</td>\n",
       "      <td>465013.5</td>\n",
       "      <td>64.867711</td>\n",
       "      <td>-147.738285</td>\n",
       "      <td>67.0</td>\n",
       "      <td>Mixed Forest</td>\n",
       "    </tr>\n",
       "    <tr>\n",
       "      <th>1</th>\n",
       "      <td>2014</td>\n",
       "      <td>Creamer's Field</td>\n",
       "      <td>7193918.9</td>\n",
       "      <td>465011.7</td>\n",
       "      <td>64.867742</td>\n",
       "      <td>-147.738323</td>\n",
       "      <td>70.0</td>\n",
       "      <td>Mixed Forest</td>\n",
       "    </tr>\n",
       "    <tr>\n",
       "      <th>2</th>\n",
       "      <td>2014</td>\n",
       "      <td>Creamer's Field</td>\n",
       "      <td>7193923.3</td>\n",
       "      <td>465011.4</td>\n",
       "      <td>64.867781</td>\n",
       "      <td>-147.738331</td>\n",
       "      <td>67.0</td>\n",
       "      <td>Mixed Forest</td>\n",
       "    </tr>\n",
       "    <tr>\n",
       "      <th>3</th>\n",
       "      <td>2014</td>\n",
       "      <td>Creamer's Field</td>\n",
       "      <td>7193927.2</td>\n",
       "      <td>465011.5</td>\n",
       "      <td>64.867816</td>\n",
       "      <td>-147.738330</td>\n",
       "      <td>72.0</td>\n",
       "      <td>Mixed Forest</td>\n",
       "    </tr>\n",
       "    <tr>\n",
       "      <th>4</th>\n",
       "      <td>2014</td>\n",
       "      <td>Creamer's Field</td>\n",
       "      <td>7193930.7</td>\n",
       "      <td>465010.8</td>\n",
       "      <td>64.867847</td>\n",
       "      <td>-147.738345</td>\n",
       "      <td>76.0</td>\n",
       "      <td>Mixed Forest</td>\n",
       "    </tr>\n",
       "  </tbody>\n",
       "</table>\n",
       "</div>"
      ],
      "text/plain": [
       "   year             site   northing   easting   latitude   longitude  \\\n",
       "0  2014  Creamer's Field  7193915.5  465013.5  64.867711 -147.738285   \n",
       "1  2014  Creamer's Field  7193918.9  465011.7  64.867742 -147.738323   \n",
       "2  2014  Creamer's Field  7193923.3  465011.4  64.867781 -147.738331   \n",
       "3  2014  Creamer's Field  7193927.2  465011.5  64.867816 -147.738330   \n",
       "4  2014  Creamer's Field  7193930.7  465010.8  64.867847 -147.738345   \n",
       "\n",
       "   thaw_depth          type  \n",
       "0        67.0  Mixed Forest  \n",
       "1        70.0  Mixed Forest  \n",
       "2        67.0  Mixed Forest  \n",
       "3        72.0  Mixed Forest  \n",
       "4        76.0  Mixed Forest  "
      ]
     },
     "execution_count": 72,
     "metadata": {},
     "output_type": "execute_result"
    }
   ],
   "source": [
    "df.head()"
   ]
  },
  {
   "cell_type": "code",
   "execution_count": 89,
   "metadata": {},
   "outputs": [
    {
     "name": "stdout",
     "output_type": "stream",
     "text": [
      "<class 'pandas.core.frame.DataFrame'>\n",
      "RangeIndex: 2270 entries, 0 to 2269\n",
      "Data columns (total 8 columns):\n",
      "year          2270 non-null int64\n",
      "site          2270 non-null object\n",
      "northing      2270 non-null float64\n",
      "easting       2270 non-null float64\n",
      "latitude      2270 non-null float64\n",
      "longitude     2270 non-null float64\n",
      "thaw_depth    2257 non-null float64\n",
      "type          2270 non-null object\n",
      "dtypes: float64(5), int64(1), object(2)\n",
      "memory usage: 142.0+ KB\n"
     ]
    }
   ],
   "source": [
    "df.info()"
   ]
  },
  {
   "cell_type": "markdown",
   "metadata": {},
   "source": [
    "# Convert 'year' to data time format."
   ]
  },
  {
   "cell_type": "code",
   "execution_count": 88,
   "metadata": {},
   "outputs": [
    {
     "data": {
      "text/plain": [
       "2270"
      ]
     },
     "execution_count": 88,
     "metadata": {},
     "output_type": "execute_result"
    }
   ],
   "source": [
    "count = 0\n",
    "for date in df['year']:\n",
    "    count += 1\n",
    "     \n",
    "    \n",
    "count"
   ]
  },
  {
   "cell_type": "code",
   "execution_count": 75,
   "metadata": {},
   "outputs": [
    {
     "data": {
      "image/png": "[encoded data removed]",
      "text/plain": [
       "<Figure size 432x288 with 1 Axes>"
      ]
     },
     "metadata": {
      "needs_background": "light"
     },
     "output_type": "display_data"
    }
   ],
   "source": [
    "\n",
    "\n",
    "# example data\n",
    "\n",
    "x =df['thaw_depth']\n",
    "\n",
    "num_bins = 50\n",
    "\n",
    "fig, ax = plt.subplots()\n",
    "\n",
    "# the histogram of the data\n",
    "n, bins, patches = ax.hist(x, num_bins, density=1)\n",
    "\n",
    "# add a 'best fit' line\n",
    "y = df['year']\n",
    "ax.set_xlabel('Thaw Depth')\n",
    "ax.set_ylabel('Probability density')\n",
    "ax.set_title(r'Thaw Depths at CRLL sites, Fairbanks')\n",
    "\n",
    "# Tweak spacing to prevent clipping of ylabel\n",
    "fig.tight_layout()\n",
    "plt.show()"
   ]
  },
  {
   "cell_type": "code",
   "execution_count": 78,
   "metadata": {},
   "outputs": [
    {
     "name": "stdout",
     "output_type": "stream",
     "text": [
      "Kylie's favorite number is 8 and her favorite color is red\n"
     ]
    }
   ],
   "source": [
    "output = \"{}'s favorite number is {} and her favorite color is {}\".format(\"Kylie\", 8, 'red')\n",
    "print(output)                                                                      "
   ]
  },
  {
   "cell_type": "code",
   "execution_count": null,
   "metadata": {},
   "outputs": [],
   "source": []
  }
 ],
 "metadata": {
  "kernelspec": {
   "display_name": "Python 3",
   "language": "python",
   "name": "python3"
  },
  "language_info": {
   "codemirror_mode": {
    "name": "ipython",
    "version": 3
   },
   "file_extension": ".py",
   "mimetype": "text/x-python",
   "name": "python",
   "nbconvert_exporter": "python",
   "pygments_lexer": "ipython3",
   "version": "3.7.3"
  }
 },
 "nbformat": 4,
 "nbformat_minor": 4
}
