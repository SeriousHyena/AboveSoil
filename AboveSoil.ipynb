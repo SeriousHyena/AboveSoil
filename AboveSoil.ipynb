{
 "cells": [
  {
   "cell_type": "markdown",
   "metadata": {},
   "source": [
    "# ABoVE: Soil Active Layer Thaw Depths at CRREL sites near Fairbanks, Alaska, 2014-2018\n",
    "\n",
    "### See the manual for this data here: https://daac.ornl.gov/cgi-bin/dsviewer.pl?ds_id=1701"
   ]
  },
  {
   "cell_type": "code",
   "execution_count": 148,
   "metadata": {},
   "outputs": [],
   "source": [
    "import pandas as pd\n",
    "import numpy as np\n",
    "import matplotlib.pyplot as plt\n",
    "import matplotlib\n",
    "\n",
    "from datetime import datetime\n",
    "\n",
    "%matplotlib inline"
   ]
  },
  {
   "cell_type": "code",
   "execution_count": 149,
   "metadata": {},
   "outputs": [],
   "source": [
    "df = pd.read_csv(r'C:\\Users\\emack\\Documents\\AboveSoil\\Active_Layer_Thaw_Depths_1701\\Active_Layer_Thaw_Depths_1701\\data\\Thaw_depth_four_sites_near_fairbanks.csv')"
   ]
  },
  {
   "cell_type": "code",
   "execution_count": 150,
   "metadata": {},
   "outputs": [
    {
     "data": {
      "text/html": [
       "<div>\n",
       "<style scoped>\n",
       "    .dataframe tbody tr th:only-of-type {\n",
       "        vertical-align: middle;\n",
       "    }\n",
       "\n",
       "    .dataframe tbody tr th {\n",
       "        vertical-align: top;\n",
       "    }\n",
       "\n",
       "    .dataframe thead th {\n",
       "        text-align: right;\n",
       "    }\n",
       "</style>\n",
       "<table border=\"1\" class=\"dataframe\">\n",
       "  <thead>\n",
       "    <tr style=\"text-align: right;\">\n",
       "      <th></th>\n",
       "      <th>year</th>\n",
       "      <th>site</th>\n",
       "      <th>northing</th>\n",
       "      <th>easting</th>\n",
       "      <th>latitude</th>\n",
       "      <th>longitude</th>\n",
       "      <th>thaw_depth</th>\n",
       "      <th>type</th>\n",
       "    </tr>\n",
       "  </thead>\n",
       "  <tbody>\n",
       "    <tr>\n",
       "      <th>0</th>\n",
       "      <td>2014</td>\n",
       "      <td>Creamer's Field</td>\n",
       "      <td>7193915.5</td>\n",
       "      <td>465013.5</td>\n",
       "      <td>64.867711</td>\n",
       "      <td>-147.738285</td>\n",
       "      <td>67.0</td>\n",
       "      <td>Mixed Forest</td>\n",
       "    </tr>\n",
       "    <tr>\n",
       "      <th>1</th>\n",
       "      <td>2014</td>\n",
       "      <td>Creamer's Field</td>\n",
       "      <td>7193918.9</td>\n",
       "      <td>465011.7</td>\n",
       "      <td>64.867742</td>\n",
       "      <td>-147.738323</td>\n",
       "      <td>70.0</td>\n",
       "      <td>Mixed Forest</td>\n",
       "    </tr>\n",
       "    <tr>\n",
       "      <th>2</th>\n",
       "      <td>2014</td>\n",
       "      <td>Creamer's Field</td>\n",
       "      <td>7193923.3</td>\n",
       "      <td>465011.4</td>\n",
       "      <td>64.867781</td>\n",
       "      <td>-147.738331</td>\n",
       "      <td>67.0</td>\n",
       "      <td>Mixed Forest</td>\n",
       "    </tr>\n",
       "    <tr>\n",
       "      <th>3</th>\n",
       "      <td>2014</td>\n",
       "      <td>Creamer's Field</td>\n",
       "      <td>7193927.2</td>\n",
       "      <td>465011.5</td>\n",
       "      <td>64.867816</td>\n",
       "      <td>-147.738330</td>\n",
       "      <td>72.0</td>\n",
       "      <td>Mixed Forest</td>\n",
       "    </tr>\n",
       "    <tr>\n",
       "      <th>4</th>\n",
       "      <td>2014</td>\n",
       "      <td>Creamer's Field</td>\n",
       "      <td>7193930.7</td>\n",
       "      <td>465010.8</td>\n",
       "      <td>64.867847</td>\n",
       "      <td>-147.738345</td>\n",
       "      <td>76.0</td>\n",
       "      <td>Mixed Forest</td>\n",
       "    </tr>\n",
       "  </tbody>\n",
       "</table>\n",
       "</div>"
      ],
      "text/plain": [
       "   year             site   northing   easting   latitude   longitude  \\\n",
       "0  2014  Creamer's Field  7193915.5  465013.5  64.867711 -147.738285   \n",
       "1  2014  Creamer's Field  7193918.9  465011.7  64.867742 -147.738323   \n",
       "2  2014  Creamer's Field  7193923.3  465011.4  64.867781 -147.738331   \n",
       "3  2014  Creamer's Field  7193927.2  465011.5  64.867816 -147.738330   \n",
       "4  2014  Creamer's Field  7193930.7  465010.8  64.867847 -147.738345   \n",
       "\n",
       "   thaw_depth          type  \n",
       "0        67.0  Mixed Forest  \n",
       "1        70.0  Mixed Forest  \n",
       "2        67.0  Mixed Forest  \n",
       "3        72.0  Mixed Forest  \n",
       "4        76.0  Mixed Forest  "
      ]
     },
     "execution_count": 150,
     "metadata": {},
     "output_type": "execute_result"
    }
   ],
   "source": [
    "df.head()"
   ]
  },
  {
   "cell_type": "code",
   "execution_count": 151,
   "metadata": {},
   "outputs": [
    {
     "name": "stdout",
     "output_type": "stream",
     "text": [
      "<class 'pandas.core.frame.DataFrame'>\n",
      "RangeIndex: 2270 entries, 0 to 2269\n",
      "Data columns (total 8 columns):\n",
      "year          2270 non-null int64\n",
      "site          2270 non-null object\n",
      "northing      2270 non-null float64\n",
      "easting       2270 non-null float64\n",
      "latitude      2270 non-null float64\n",
      "longitude     2270 non-null float64\n",
      "thaw_depth    2257 non-null float64\n",
      "type          2270 non-null object\n",
      "dtypes: float64(5), int64(1), object(2)\n",
      "memory usage: 142.0+ KB\n"
     ]
    }
   ],
   "source": [
    "df.info()"
   ]
  },
  {
   "cell_type": "markdown",
   "metadata": {},
   "source": [
    "# Data-Cleaning"
   ]
  },
  {
   "cell_type": "markdown",
   "metadata": {},
   "source": [
    "# Loop through the 'type' column to give it an 'int' value so I can work with it.\n",
    "### The 'type' column describes the type of ground cover over the transect site"
   ]
  },
  {
   "cell_type": "code",
   "execution_count": 152,
   "metadata": {},
   "outputs": [
    {
     "data": {
      "text/plain": [
       "0    3\n",
       "1    3\n",
       "2    3\n",
       "3    3\n",
       "4    3\n",
       "Name: type, dtype: int64"
      ]
     },
     "execution_count": 152,
     "metadata": {},
     "output_type": "execute_result"
    }
   ],
   "source": [
    "ground_types = ['Disturbed', 'Eroded', 'Mixed Forest', 'Moss Spruce Forest', \n",
    "                'Tussock Tundra', 'Wetland']\n",
    "\n",
    "for i, row in df.iterrows(): # use the pandas 'iterrows() function'\n",
    "    unique_id = i\n",
    "# now we start replacing text values with integers in order to work with the data\n",
    "    ground_type = row['type'] # here we integer the \"Mixed Forest\" rows\n",
    "    if ground_type == 'Mixed Forest':\n",
    "        df['type'].replace(to_replace=['Mixed Forest'], value=3, inplace=True)\n",
    "        \n",
    "    else: # here we integer the 'Eroded' rows\n",
    "        if ground_type == 'Eroded':\n",
    "            df['type'].replace(to_replace=['Eroded'], value=2, inplace=True)\n",
    "            \n",
    "        else: # here we integer the 'Disturbed' rows\n",
    "            if ground_type == 'Disturbed':\n",
    "                df['type'].replace(to_replace=['Disturbed'], value=1, inplace=True)\n",
    "                \n",
    "            else: # here we integer the 'Moss Spruce Forest' rows\n",
    "                if ground_type == 'Moss Spruce Forest':\n",
    "                    df['type'].replace(to_replace=['Moss Spruce Forest'], value=4, inplace=True)\n",
    "            \n",
    "                else: # here we integer the 'Tussock Tundra' rows\n",
    "                    if ground_type == 'Tussock Tundra':\n",
    "                        df['type'].replace(to_replace=['Tussock Tundra'], value=5, inplace=True)  \n",
    "                        \n",
    "                    else: # here we integer the 'Wetland' rows\n",
    "                        if ground_type == 'Wetland':\n",
    "                            df['type'].replace(to_replace=['Wetland'], value=6, inplace=True)\n",
    "    \n",
    "\n",
    "df['type'].head() # verify it worked "
   ]
  },
  {
   "cell_type": "markdown",
   "metadata": {},
   "source": [
    "# Create a frequency table for the Ground-Cover Type"
   ]
  },
  {
   "cell_type": "code",
   "execution_count": 153,
   "metadata": {},
   "outputs": [
    {
     "data": {
      "text/html": [
       "<div>\n",
       "<style scoped>\n",
       "    .dataframe tbody tr th:only-of-type {\n",
       "        vertical-align: middle;\n",
       "    }\n",
       "\n",
       "    .dataframe tbody tr th {\n",
       "        vertical-align: top;\n",
       "    }\n",
       "\n",
       "    .dataframe thead th {\n",
       "        text-align: right;\n",
       "    }\n",
       "</style>\n",
       "<table border=\"1\" class=\"dataframe\">\n",
       "  <thead>\n",
       "    <tr style=\"text-align: right;\">\n",
       "      <th></th>\n",
       "      <th>Count</th>\n",
       "      <th>Ground Type</th>\n",
       "    </tr>\n",
       "  </thead>\n",
       "  <tbody>\n",
       "    <tr>\n",
       "      <th>0</th>\n",
       "      <td>5</td>\n",
       "      <td>765</td>\n",
       "    </tr>\n",
       "    <tr>\n",
       "      <th>1</th>\n",
       "      <td>4</td>\n",
       "      <td>588</td>\n",
       "    </tr>\n",
       "    <tr>\n",
       "      <th>2</th>\n",
       "      <td>3</td>\n",
       "      <td>374</td>\n",
       "    </tr>\n",
       "    <tr>\n",
       "      <th>3</th>\n",
       "      <td>1</td>\n",
       "      <td>292</td>\n",
       "    </tr>\n",
       "    <tr>\n",
       "      <th>4</th>\n",
       "      <td>6</td>\n",
       "      <td>237</td>\n",
       "    </tr>\n",
       "    <tr>\n",
       "      <th>5</th>\n",
       "      <td>2</td>\n",
       "      <td>14</td>\n",
       "    </tr>\n",
       "  </tbody>\n",
       "</table>\n",
       "</div>"
      ],
      "text/plain": [
       "   Count  Ground Type\n",
       "0      5          765\n",
       "1      4          588\n",
       "2      3          374\n",
       "3      1          292\n",
       "4      6          237\n",
       "5      2           14"
      ]
     },
     "execution_count": 153,
     "metadata": {},
     "output_type": "execute_result"
    }
   ],
   "source": [
    "df2 = pd.value_counts(df.type).to_frame().reset_index().rename(columns={'index':'Count'}).rename(columns={'type':'Ground Type'})\n",
    "df2"
   ]
  },
  {
   "cell_type": "code",
   "execution_count": null,
   "metadata": {},
   "outputs": [],
   "source": []
  },
  {
   "cell_type": "markdown",
   "metadata": {},
   "source": [
    "# Convert 'year' to data time format."
   ]
  },
  {
   "cell_type": "code",
   "execution_count": 154,
   "metadata": {},
   "outputs": [
    {
     "data": {
      "text/plain": [
       "2270"
      ]
     },
     "execution_count": 154,
     "metadata": {},
     "output_type": "execute_result"
    }
   ],
   "source": [
    "count = 0\n",
    "for date in df['year']:\n",
    "    count += 1\n",
    "     \n",
    "    \n",
    "count"
   ]
  },
  {
   "cell_type": "code",
   "execution_count": 155,
   "metadata": {},
   "outputs": [
    {
     "data": {
      "image/png": "[encoded data removed]",
      "text/plain": [
       "<Figure size 432x288 with 1 Axes>"
      ]
     },
     "metadata": {
      "needs_background": "light"
     },
     "output_type": "display_data"
    }
   ],
   "source": [
    "\n",
    "\n",
    "\n",
    "\n",
    "x = df['type']\n",
    "y =df['thaw_depth']\n",
    "\n",
    "\n",
    "\n",
    "num_bins = 50\n",
    "\n",
    "fig, ax = plt.subplots()\n",
    "\n",
    "# the histogram of the data\n",
    "n, bins, patches = ax.hist(y, num_bins, density=1)\n",
    "\n",
    "\n",
    "ax.set_xlabel('Thaw Depth')\n",
    "ax.set_ylabel('Ground Type')\n",
    "ax.set_title(r'Thaw Depths at CRLL sites, Fairbanks')\n",
    "\n",
    "# Tweak spacing to prevent clipping of ylabel\n",
    "fig.tight_layout()\n",
    "plt.show()"
   ]
  },
  {
   "cell_type": "code",
   "execution_count": null,
   "metadata": {},
   "outputs": [],
   "source": []
  },
  {
   "cell_type": "code",
   "execution_count": null,
   "metadata": {},
   "outputs": [],
   "source": []
  }
 ],
 "metadata": {
  "kernelspec": {
   "display_name": "Python 3",
   "language": "python",
   "name": "python3"
  },
  "language_info": {
   "codemirror_mode": {
    "name": "ipython",
    "version": 3
   },
   "file_extension": ".py",
   "mimetype": "text/x-python",
   "name": "python",
   "nbconvert_exporter": "python",
   "pygments_lexer": "ipython3",
   "version": "3.7.3"
  }
 },
 "nbformat": 4,
 "nbformat_minor": 4
}
